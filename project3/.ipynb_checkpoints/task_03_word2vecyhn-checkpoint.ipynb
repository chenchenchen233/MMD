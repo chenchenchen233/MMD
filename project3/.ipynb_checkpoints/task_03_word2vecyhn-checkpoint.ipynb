{
 "cells": [
  {
   "cell_type": "code",
   "execution_count": 1,
   "metadata": {},
   "outputs": [],
   "source": [
    "import numpy as np\n",
    "import matplotlib.pyplot as plt\n",
    "from collections import Counter\n",
    "import tensorflow as tf\n",
    "from scipy import spatial\n",
    "%matplotlib inline"
   ]
  },
  {
   "cell_type": "markdown",
   "metadata": {},
   "source": [
    "# 1. Introduction\n",
    "\n",
    "The goal of this project is to obtain the vector representations for words from text.\n",
    "\n",
    "The main idea is that words appearing in similar contexts have similar meanings. Because of that, word vectors of similar words should be close together. Models that use word vectors can utilize these properties, e.g., in sentiment analysis a model will learn that \"good\" and \"great\" are positive words, but will also generalize to other words that it has not seen (e.g. \"amazing\") because they should be close together in the vector space.\n",
    "\n",
    "Vectors can keep other language properties as well, like analogies. The question \"a is to b as c is to ...?\", where the answer is d, can be answered by looking into word vector space and calculating $\\mathbf{u}_b - \\mathbf{u}_a + \\mathbf{u}_c$, and finding the word vector that is the closest to the result.\n",
    "\n",
    "We are given a text that contains $N$ unique words $\\{ x_1, ..., x_N \\}$. We will focus on the Skip-Gram model in which the goal is to predict the context window $S = \\{ x_{i-l}, ..., x_{i-1}, x_{i+1}, ..., x_{i+l} \\}$ from current word $x_i$, where $l$ is the window size. \n",
    "\n",
    "We get a word embedding $\\mathbf{u}_i$ by multiplying the matrix $\\mathbf{U}$ with a one-hot representation $\\mathbf{x}_i$ of a word $x_i$. Then, to get output probabilities for context window, we multiply this embedding with another matrix $\\mathbf{V}$ and apply softmax. The objective is to minimize the loss: $-\\mathop{\\mathbb{E}}[P(S|x_i;\\mathbf{U}, \\mathbf{V})]$.\n",
    "\n",
    "You are given a dataset with positive and negative reviews. Your task is to:\n",
    "+ Construct input-output pairs corresponding to the current word and a word in the context window\n",
    "+ Implement forward and backward propagation with parameter updates for Skip-Gram model\n",
    "+ Train the model\n",
    "+ Test it on word analogies and sentiment analysis task"
   ]
  },
  {
   "cell_type": "markdown",
   "metadata": {},
   "source": [
    "# 2. Load data\n",
    "\n",
    "We'll be working with a subset of reviews for restaurants in Las Vegas. The reviews that we'll be working with are either 1-star or 5-star. You can download the used data set (`task03_data.npy`) from:\n",
    "\n",
    "* ([download link](https://syncandshare.lrz.de/dl/fi7cjApuE3Bd3xyfsyx3k9jr/task03_data.npy)) the preprocessed set of 1-star and 5-star reviews "
   ]
  },
  {
   "cell_type": "code",
   "execution_count": 2,
   "metadata": {},
   "outputs": [],
   "source": [
    "data = np.load(\"task03_data.npy\", allow_pickle=True)\n",
    "reviews_1star = [[x.lower() for x in s] for s in data.item()[\"reviews_1star\"]]\n",
    "reviews_5star = [[x.lower() for x in s] for s in data.item()[\"reviews_5star\"]]"
   ]
  },
  {
   "cell_type": "markdown",
   "metadata": {},
   "source": [
    "We generate the vocabulary by taking the top 500 words by their frequency from both positive and negative sentences. We could also use the whole vocabulary, but that would be slower."
   ]
  },
  {
   "cell_type": "code",
   "execution_count": 3,
   "metadata": {},
   "outputs": [],
   "source": [
    "vocabulary = [x for s in reviews_1star + reviews_5star for x in s]\n",
    "vocabulary, counts = zip(*Counter(vocabulary).most_common(500))"
   ]
  },
  {
   "cell_type": "code",
   "execution_count": 4,
   "metadata": {},
   "outputs": [],
   "source": [
    "VOCABULARY_SIZE = len(vocabulary)\n",
    "EMBEDDING_DIM = 100"
   ]
  },
  {
   "cell_type": "code",
   "execution_count": 5,
   "metadata": {},
   "outputs": [
    {
     "name": "stdout",
     "output_type": "stream",
     "text": [
      "Number of positive reviews: 1000\n",
      "Number of negative reviews: 2000\n",
      "Number of unique words: 500\n"
     ]
    }
   ],
   "source": [
    "print('Number of positive reviews:', len(reviews_1star))\n",
    "print('Number of negative reviews:', len(reviews_5star))\n",
    "print('Number of unique words:', VOCABULARY_SIZE)"
   ]
  },
  {
   "cell_type": "markdown",
   "metadata": {},
   "source": [
    "You have to create two dictionaries: `word_to_ind` and `ind_to_word` so we can go from text to numerical representation and vice versa. The input into the model will be the index of the word denoting the position in the vocabulary."
   ]
  },
  {
   "cell_type": "code",
   "execution_count": 6,
   "metadata": {},
   "outputs": [],
   "source": [
    "\"\"\"\n",
    "Implement\n",
    "---------\n",
    "word_to_ind: dict\n",
    "    The keys are words (str) and the value is the corresponding position in the vocabulary\n",
    "ind_to_word: dict\n",
    "    The keys are indices (int) and the value is the corresponding word from the vocabulary\n",
    "ind_to_freq: dict\n",
    "    The keys are indices (int) and the value is the corresponding count in the vocabulary\n",
    "\"\"\"\n",
    "word_to_ind = {}\n",
    "ind_to_word = {}\n",
    "ind_to_freq = {}\n",
    "for index,word in enumerate(vocabulary):\n",
    "    word_to_ind[word] = index\n",
    "    ind_to_word[index] = word\n",
    "for index,freq in enumerate(counts):\n",
    "    ind_to_freq[index] = freq\n",
    "\n",
    "### YOUR CODE HERE ###"
   ]
  },
  {
   "cell_type": "code",
   "execution_count": 7,
   "metadata": {},
   "outputs": [
    {
     "name": "stdout",
     "output_type": "stream",
     "text": [
      "Word \"the\" is at position 0 appearing 2017 times\n"
     ]
    }
   ],
   "source": [
    "print('Word \\\"%s\\\" is at position %d appearing %d times' % \n",
    "      (ind_to_word[word_to_ind['the']], word_to_ind['the'], ind_to_freq[word_to_ind['the']]))"
   ]
  },
  {
   "cell_type": "markdown",
   "metadata": {},
   "source": [
    "# 3. Create word pairs\n",
    "\n",
    "We need all the word pairs $\\{ x_i, x_j \\}$, where $x_i$ is the current word and $x_j$ is from its context window. These will correspond to input-output pairs. We want them to be represented numericaly so you should use `word_to_ind` dictionary."
   ]
  },
  {
   "cell_type": "code",
   "execution_count": 8,
   "metadata": {},
   "outputs": [],
   "source": [
    "def get_window(sentence, window_size):\n",
    "    sentence = [x for x in sentence if x in vocabulary]\n",
    "    pairs = []\n",
    "\n",
    "    \"\"\"\n",
    "    Iterate over all the sentences\n",
    "    Take all the words from (i - window_size) to (i + window_size) and save them to pairs\n",
    "    \n",
    "    Parameters\n",
    "    ----------\n",
    "    sentence: list\n",
    "        A list of sentences, each sentence containing a list of words of str type\n",
    "    window_size: int\n",
    "        A positive scalar\n",
    "        \n",
    "    Returns\n",
    "    -------\n",
    "    pairs: list\n",
    "        A list of tuple (word index, word index from its context) of int type\n",
    "    \"\"\"\n",
    "\n",
    "    ### YOUR CODE HERE ###\n",
    "    for i,word in enumerate(sentence):\n",
    "        for pairIndex in range(i-window_size,i):\n",
    "            if pairIndex >=0:\n",
    "                pairs.append((word_to_ind[sentence[i]],word_to_ind[sentence[pairIndex]]))\n",
    "        for pairIndex in range(i+1,i+1+window_size):\n",
    "            if pairIndex < len(sentence):\n",
    "                pairs.append((word_to_ind[sentence[i]],word_to_ind[sentence[pairIndex]]))\n",
    "    \n",
    "    \n",
    "\n",
    "    return pairs"
   ]
  },
  {
   "cell_type": "code",
   "execution_count": 9,
   "metadata": {},
   "outputs": [
    {
     "name": "stdout",
     "output_type": "stream",
     "text": [
      "First 5 pairs: [[10, 6], [10, 64], [10, 320], [6, 10], [6, 64]]\n",
      "Total number of pairs: 152322\n"
     ]
    }
   ],
   "source": [
    "data = []\n",
    "for x in reviews_1star + reviews_5star:\n",
    "    data += get_window(x, window_size=3)\n",
    "data = np.array(data)\n",
    "\n",
    "print('First 5 pairs:', data[:5].tolist())\n",
    "print('Total number of pairs:', data.shape[0])"
   ]
  },
  {
   "cell_type": "markdown",
   "metadata": {},
   "source": [
    "We calculate a weighting score to counter the imbalance between the rare and frequent words. Rare words will be sampled more frequently. See https://arxiv.org/pdf/1310.4546.pdf"
   ]
  },
  {
   "cell_type": "code",
   "execution_count": 10,
   "metadata": {},
   "outputs": [],
   "source": [
    "probabilities = [1 - np.sqrt(1e-3 / ind_to_freq[x]) for x in data[:,0]]\n",
    "probabilities /= np.sum(probabilities)"
   ]
  },
  {
   "cell_type": "markdown",
   "metadata": {},
   "source": [
    "# 4. Model definition\n",
    "\n",
    "In this part you should implement forward and backward propagation together with update of the parameters."
   ]
  },
  {
   "cell_type": "code",
   "execution_count": 11,
   "metadata": {},
   "outputs": [],
   "source": [
    "class Embedding():\n",
    "    def __init__(self, N, D, seed=None):\n",
    "        \"\"\"\n",
    "        Parameters\n",
    "        ----------\n",
    "        N: int\n",
    "            Number of unique words in the vocabulary\n",
    "        D: int\n",
    "            Dimension of the word vector embedding\n",
    "        seed: int\n",
    "            Sets the random seed, if omitted weights will be random\n",
    "        \"\"\"\n",
    "\n",
    "        self.N = N\n",
    "        self.D = D\n",
    "        \n",
    "        self.init_weights(seed)\n",
    "    \n",
    "    def init_weights(self, seed=None):\n",
    "        if seed is not None:\n",
    "            np.random.seed(seed)\n",
    "\n",
    "        \"\"\"\n",
    "        We initialize weight matrices U and V of dimension (D, N) and (N, D) respectively\n",
    "        \"\"\"\n",
    "        self.U = np.random.normal(0, np.sqrt(2 / self.D / self.N), (self.D, self.N))\n",
    "        self.V = np.random.normal(0, np.sqrt(2 / self.D / self.N), (self.N, self.D))\n",
    "\n",
    "    def one_hot(self, x, N):\n",
    "        \"\"\"\n",
    "        Given a vector returns a matrix with rows corresponding to one-hot encoding\n",
    "        \n",
    "        Parameters\n",
    "        ----------\n",
    "        x: array\n",
    "            M-dimensional vector containing integers from [0, N]\n",
    "        N: int\n",
    "            Number of posible classes\n",
    "        \n",
    "        Returns\n",
    "        -------\n",
    "        one_hot: array\n",
    "            (N, M) matrix where each column is N-dimensional one-hot encoding of elements from x \n",
    "        \"\"\"\n",
    "\n",
    "        ### YOUR CODE HERE ###\n",
    "        one_hot = np.zeros((x.shape[0],N))\n",
    "        one_hot[list(range(x.shape[0])), x] = 1\n",
    "        one_hot = one_hot.T\n",
    "        assert one_hot.shape == (N, x.shape[0])\n",
    "        return one_hot\n",
    "\n",
    "    def loss(self, y, prob):\n",
    "        \"\"\"\n",
    "        Parameters\n",
    "        ----------\n",
    "        y: array\n",
    "            (N, M) matrix of M samples where columns are one-hot vectors for true values\n",
    "        prob: array\n",
    "            (N, M) column of M samples where columns are probabily vectors after softmax\n",
    "\n",
    "        Returns\n",
    "        -------\n",
    "        loss: int\n",
    "            Cross-entropy loss calculated as: 1 / M * sum_i(sum_j(y_ij * log(prob_ij)))\n",
    "        \"\"\"\n",
    "        N = y.shape[0]\n",
    "        M = y.shape[1]\n",
    "        ### YOUR CODE HERE ###\n",
    "        #loss = - 1.0 * np.sum(np.log(prob[list(range(M)),y])) / M\n",
    "        loss = (-1.0/y.shape[1])*np.sum(y*np.log(prob))\n",
    "        \n",
    "        return loss\n",
    "    \n",
    "    def softmax(self, x, axis):\n",
    "        \"\"\"\n",
    "        Parameters\n",
    "        ----------\n",
    "        x: array\n",
    "            A non-empty matrix of any dimension\n",
    "        axis: int\n",
    "            Dimension on which softmax is performed\n",
    "            \n",
    "        Returns\n",
    "        -------\n",
    "        y: array\n",
    "            Matrix of same dimension as x with softmax applied to 'axis' dimension\n",
    "        \"\"\"\n",
    "        \n",
    "        ### YOUR CODE HERE ###\n",
    "        \n",
    "        e_x = np.exp(x-np.max(x))\n",
    "        y = e_x / e_x.sum(axis=axis)\n",
    "        \n",
    "        return y\n",
    "    \n",
    "    def step(self, x, y, learning_rate=1e-3):\n",
    "        \"\"\"\n",
    "        Performs forward and backward propagation and updates weights\n",
    "        \n",
    "        Parameters\n",
    "        ----------\n",
    "        x: array\n",
    "            M-dimensional mini-batched vector containing input word indices of int type\n",
    "        y: array\n",
    "            Output words, same dimension and type as 'x'\n",
    "        learning_rate: float\n",
    "            A positive scalar determining the update rate\n",
    "            \n",
    "        Returns\n",
    "        -------\n",
    "        loss: float\n",
    "            Cross-entropy loss\n",
    "        d_U: array\n",
    "            Partial derivative of loss w.r.t. U\n",
    "        d_V: array\n",
    "            Partial derivative of loss w.r.t. V\n",
    "        \"\"\"\n",
    "        \n",
    "        # Input transformation\n",
    "        \"\"\"\n",
    "        Input is represented with M-dimensional vectors\n",
    "        We convert them to (N, M) matrices such that columns are one-hot \n",
    "        representations of the input\n",
    "        \"\"\"\n",
    "        y_ori = y\n",
    "        x = self.one_hot(x, self.N)\n",
    "        y = self.one_hot(y, self.N)\n",
    "\n",
    "        \n",
    "        # Forward propagation\n",
    "        \"\"\"\n",
    "        Returns\n",
    "        -------\n",
    "        embedding: array\n",
    "            (D, M) matrix where columns are word embedding from U matrix\n",
    "        logits: array\n",
    "            (N, M) matrix where columns are output logits\n",
    "        prob: array\n",
    "            (N, M) matrix where columns are output probabilities\n",
    "        \"\"\"\n",
    "        embedding = (self.U).dot(x)\n",
    "        logits = (self.V).dot(embedding)\n",
    "        prob = self.softmax(logits,0)\n",
    "        \n",
    "        ### YOUR CODE HERE ###\n",
    "\n",
    "        \n",
    "        assert embedding.shape == (self.D, x.shape[1])\n",
    "        assert logits.shape == (self.N, x.shape[1])\n",
    "        assert prob.shape == (self.N, x.shape[1])\n",
    "    \n",
    "    \n",
    "        # Loss calculation\n",
    "        \"\"\"\n",
    "        Returns\n",
    "        -------\n",
    "        loss: int\n",
    "            Cross-entropy loss using true values and probabilities\n",
    "        \"\"\"\n",
    "        \n",
    "        ### YOUR CODE HERE ###\n",
    "        loss = self.loss(y, prob)\n",
    "        \n",
    "        \n",
    "        \n",
    "        # Backward propagation\n",
    "        \"\"\"\n",
    "        Returns\n",
    "        -------\n",
    "        d_U: array\n",
    "            (N, D) matrix of partial derivatives of loss w.r.t. U\n",
    "        d_V: array\n",
    "            (D, N) matrix of partial derivatives of loss w.r.t. V\n",
    "        \"\"\"\n",
    "        \n",
    "        ### YOUR CODE HERE ###\n",
    "        N = x.shape[0]\n",
    "        M = x.shape[1]\n",
    "        D = self.D\n",
    "        dscores = prob\n",
    "        \n",
    "        dscores[y_ori, list(range(M))] -= 1\n",
    "        dscores /= float(M)\n",
    "\n",
    "        dOv = embedding.T\n",
    "        \n",
    "        d_V = np.dot(dscores,dOv)\n",
    "        \n",
    "        d_U = (np.dot(self.V.T,dscores)).dot(x.T)\n",
    "\n",
    "        \n",
    "        assert d_V.shape == (self.N, self.D)\n",
    "        assert d_U.shape == (self.D, self.N)\n",
    "\n",
    "        \n",
    "        # Update the parameters\n",
    "        \"\"\"\n",
    "        Updates the weights with gradient descent such that W_new = W - alpha * dL/dW, \n",
    "        where alpha is the learning rate and dL/dW is the partial derivative of loss w.r.t. \n",
    "        the weights W\n",
    "        \"\"\"\n",
    "        self.V -= (d_V*learning_rate)\n",
    "        self.U -= (d_U*learning_rate)\n",
    "        \n",
    "        ### YOUR CODE HERE ###\n",
    "\n",
    "        return loss, d_U, d_V"
   ]
  },
  {
   "cell_type": "markdown",
   "metadata": {},
   "source": [
    "## 4.1 Gradient check\n",
    "\n",
    "The following code checks whether the updates for weights are implemented correctly. It should run without an error."
   ]
  },
  {
   "cell_type": "code",
   "execution_count": 12,
   "metadata": {},
   "outputs": [
    {
     "name": "stdout",
     "output_type": "stream",
     "text": [
      "Gradients checked - all good!\n"
     ]
    }
   ],
   "source": [
    "def get_loss(model, old, variable, epsilon, x, y, i, j):\n",
    "    delta = np.zeros_like(old)\n",
    "    delta[i, j] = epsilon\n",
    "\n",
    "    model.init_weights(seed=132) # reset weights\n",
    "    setattr(model, variable, old + delta) # change one weight by a small amount\n",
    "    loss, _, _ = model.step(x, y) # get loss\n",
    "\n",
    "    return loss\n",
    "\n",
    "def gradient_check_for_weight(model, variable, i, j, k, l):\n",
    "    x, y = np.array([i]), np.array([j]) # set input and output\n",
    "    \n",
    "    old = getattr(model, variable)\n",
    "    \n",
    "    model.init_weights(seed=132) # reset weights\n",
    "    _, d_U, d_V = model.step(x, y) # get gradients with backprop\n",
    "    grad = { 'U': d_U, 'V': d_V }\n",
    "    \n",
    "    eps = 1e-4\n",
    "    loss_positive = get_loss(model, old, variable, eps, x, y, k, l) # loss for positive change on one weight\n",
    "    loss_negative = get_loss(model, old, variable, -eps, x, y, k, l) # loss for negative change on one weight\n",
    "    \n",
    "    true_gradient = (loss_positive - loss_negative) / 2 / eps # calculate true derivative wrt one weight\n",
    "    assert abs(true_gradient - grad[variable][k, l]) < 1e-5 # require that the difference is small\n",
    "\n",
    "def gradient_check():\n",
    "    N, D = VOCABULARY_SIZE, EMBEDDING_DIM\n",
    "    model = Embedding(N, D)\n",
    "\n",
    "    # check for V\n",
    "    for _ in range(20):\n",
    "        i, j, k = [np.random.randint(0, d) for d in [N, N, D]] # get random indices for input and weights\n",
    "        gradient_check_for_weight(model, 'V', i, j, i, k)\n",
    "\n",
    "    # check for U\n",
    "    for _ in range(20):\n",
    "        i, j, k = [np.random.randint(0, d) for d in [N, N, D]]\n",
    "        gradient_check_for_weight(model, 'U', i, j, k, i)\n",
    "\n",
    "    print('Gradients checked - all good!')\n",
    "\n",
    "gradient_check()"
   ]
  },
  {
   "cell_type": "markdown",
   "metadata": {},
   "source": [
    "# 5. Training"
   ]
  },
  {
   "cell_type": "markdown",
   "metadata": {},
   "source": [
    "We train our model using stochastic gradient descent. At every step we sample a mini-batch from data and update the weights.\n",
    "\n",
    "The following function samples words from data and creates mini-batches. It subsamples frequent words based on previously calculated probabilities."
   ]
  },
  {
   "cell_type": "code",
   "execution_count": 13,
   "metadata": {},
   "outputs": [],
   "source": [
    "def get_batch(data, size, prob):\n",
    "    i = np.random.choice(data.shape[0], size, p=prob)\n",
    "    return data[i, 0], data[i, 1]"
   ]
  },
  {
   "cell_type": "markdown",
   "metadata": {},
   "source": [
    "Training the model can take some time so plan accordingly."
   ]
  },
  {
   "cell_type": "code",
   "execution_count": null,
   "metadata": {},
   "outputs": [
    {
     "name": "stdout",
     "output_type": "stream",
     "text": [
      "Iteration: 10000 Loss: 6.21459993937107\n",
      "Iteration: 20000 Loss: 6.214582960906099\n",
      "Iteration: 30000 Loss: 6.21456511658746\n"
     ]
    }
   ],
   "source": [
    "np.random.seed(123)\n",
    "model = Embedding(N=VOCABULARY_SIZE, D=EMBEDDING_DIM)\n",
    "\n",
    "losses = []\n",
    "\n",
    "MAX_ITERATIONS = 150000\n",
    "PRINT_EVERY = 10000\n",
    "\n",
    "for i in range(MAX_ITERATIONS):\n",
    "    x, y = get_batch(data, 128, probabilities)\n",
    "    loss, _, _ = model.step(x, y, 1e-3)\n",
    "    losses.append(loss)\n",
    "\n",
    "    if (i + 1) % PRINT_EVERY == 0:\n",
    "        print('Iteration:', i + 1, 'Loss:', np.mean(losses[-PRINT_EVERY:]))"
   ]
  },
  {
   "cell_type": "markdown",
   "metadata": {},
   "source": [
    "The embedding matrix is given by $\\mathbf{U}^T$, where the $i$th row is the vector for $i$th word in the vocabulary."
   ]
  },
  {
   "cell_type": "code",
   "execution_count": null,
   "metadata": {},
   "outputs": [],
   "source": [
    "emb_matrix = model.U.T"
   ]
  },
  {
   "cell_type": "markdown",
   "metadata": {},
   "source": [
    "# 6. Analogies\n",
    "\n",
    "As mentioned before, vectors can keep some language properties like analogies. Given a relation a:b and a query c, we can find d such that c:d follows the same relation. We hope to find d by using vector operations. In this case, finding the real word vector $\\mathbf{u}_d$ closest to $\\mathbf{u}_b - \\mathbf{u}_a + \\mathbf{u}_c$ gives us d."
   ]
  },
  {
   "cell_type": "code",
   "execution_count": 26,
   "metadata": {},
   "outputs": [
    {
     "name": "stdout",
     "output_type": "stream",
     "text": [
      "go is to going as come is to [here|in|back|to|be]\n",
      "look is to looking as come is to [you|place|here|a|for]\n",
      "you is to their as we is to [was|had|ordered|were|we]\n",
      "what is to that as when is to [i|they|and|the|in]\n",
      "go is to went as is is to [a|in|of|and|the]\n",
      "go is to went as find is to [to|and|the|in|we]\n"
     ]
    }
   ],
   "source": [
    "triplets = [['go', 'going', 'come'], ['look', 'looking', 'come'], ['you', 'their', 'we'], \n",
    "            ['what', 'that', 'when'], ['go', 'went', 'is'], ['go', 'went', 'find']]\n",
    "\n",
    "for triplet in triplets:\n",
    "    a, b, c = triplet\n",
    "\n",
    "    \"\"\"\n",
    "    Returns\n",
    "    -------\n",
    "    candidates: list\n",
    "        A list of 5 closest words, measured with cosine similarity, to the vector u_b - u_a + u_c\n",
    "    \"\"\"\n",
    "    \n",
    "    ### YOUR CODE HERE ###\n",
    "    ai = word_to_ind[a]\n",
    "    ai = np.array([ai])\n",
    "    bi = word_to_ind[b]\n",
    "    bi = np.array([bi])\n",
    "    ci = word_to_ind[c]\n",
    "    ci = np.array([ci])\n",
    "    ai = model.one_hot(ai, model.N)\n",
    "    embeddinga = np.dot(model.U, ai)\n",
    "    bi = model.one_hot(bi, model.N)\n",
    "    embeddingb = (model.U).dot(bi)\n",
    "    ci = model.one_hot(ci, model.N)\n",
    "    embeddingc = (model.U).dot(ci)\n",
    "    u_d = embeddingb - embeddinga + embeddingc\n",
    "    \n",
    "    logits = (model.V).dot(u_d)\n",
    "    prob = model.softmax(logits,0)\n",
    "    candidates = prob[:,0].argsort()[-5:]\n",
    "    candidates = [ind_to_word[c] for c in candidates]\n",
    "\n",
    "    \n",
    "    print('%s is to %s as %s is to [%s]' % (a, b, c, '|'.join(candidates)))    "
   ]
  },
  {
   "cell_type": "markdown",
   "metadata": {},
   "source": [
    "# RNN\n",
    "\n",
    "Our end goal is to use the pretrained word vectors on some downstream task, e.g. sentiment analysis. We first generate a dataset where we just concatenate 1 and 5-star reviews into `all_sentences`. We also create a list `Y` with labels 1 for positive reviews and 0 for negative"
   ]
  },
  {
   "cell_type": "code",
   "execution_count": 27,
   "metadata": {},
   "outputs": [],
   "source": [
    "all_sentences = reviews_1star + reviews_5star # list of sentence(list)\n",
    "Y = np.array([0] * len(reviews_1star) + [1] * len(reviews_5star))\n",
    "\n",
    "SENTENCES_SIZE = len(all_sentences)\n",
    "MAX_SENTENCE_LENGTH = max([len(x) for x in all_sentences])"
   ]
  },
  {
   "cell_type": "markdown",
   "metadata": {},
   "source": [
    "Your task is to create an array $\\mathbf{X}$ where (i,j,k) element denotes $k$th value of an embedding for $j$th word in $i$th sentence in the dataset. In addition, we need a list that keeps track of how many words are in each sentence. "
   ]
  },
  {
   "cell_type": "code",
   "execution_count": 28,
   "metadata": {},
   "outputs": [],
   "source": [
    "\"\"\"\n",
    "Returns\n",
    "-------\n",
    "X: array\n",
    "    Array of dimensions (SENTENCES_SIZE, MAX_SENTENCE_LENGTH, EMBEDDING_DIM) where \n",
    "    the first dimension denotes the index of the sentence in the dataset and second is \n",
    "    the word index in the sentence. Sentences that are shorter than MAX_SENTENCE_LENGTH\n",
    "    are padded with zero vectors. Words that are not in the vocabulary are also \n",
    "    represented with zero vectors of EMBEDDING_DIM size.\n",
    "S: array\n",
    "    Array of SENTENCES_SIZE dimension containing the sentence lenghts\n",
    "\"\"\"\n",
    "\n",
    "### YOUR CODE HERE ###\n",
    "X = np.zeros([SENTENCES_SIZE, MAX_SENTENCE_LENGTH, EMBEDDING_DIM])\n",
    "S = np.zeros([SENTENCES_SIZE])\n",
    "for i,s in enumerate(all_sentences):\n",
    "    S[i] = len(s)\n",
    "    for j,word in enumerate(s):\n",
    "        if word in word_to_ind:\n",
    "            wi = word_to_ind[word]\n",
    "            wi = np.array([wi])\n",
    "            wi = model.one_hot(wi, model.N)\n",
    "            embedding = np.dot(model.U, wi)\n",
    "            embedding = embedding[:,0]\n",
    "            X[i,j] = embedding\n",
    "            \n",
    "            \n"
   ]
  },
  {
   "cell_type": "markdown",
   "metadata": {},
   "source": [
    "We want to train on a subset of data, and test on remaining data. Your task is to split X, Y and S into training and test set (60%-40%)."
   ]
  },
  {
   "cell_type": "code",
   "execution_count": 29,
   "metadata": {},
   "outputs": [],
   "source": [
    "\"\"\"\n",
    "Returns\n",
    "-------\n",
    "X_train, y_train, s_train: arrays\n",
    "    Randomly selected 60% of all data\n",
    "X_test, y_test, s_test: arrays\n",
    "    Rest of the data\n",
    "\"\"\"\n",
    "\n",
    "### YOUR CODE HERE ###\n",
    "choice = np.random.choice(range(X.shape[0]), size=(int(0.6*X.shape[0]),), replace=False)    \n",
    "ind = np.zeros(X.shape[0], dtype=bool)\n",
    "ind[choice] = True\n",
    "rest = ~ind\n",
    "X_train = X[ind]\n",
    "X_test = X[rest]\n",
    "\n",
    "choice = np.random.choice(range(Y.shape[0]), size=(int(0.6*Y.shape[0]),), replace=False)    \n",
    "ind = np.zeros(Y.shape[0], dtype=bool)\n",
    "ind[choice] = True\n",
    "rest = ~ind\n",
    "y_train = Y[ind]\n",
    "y_test = Y[rest]\n",
    "\n",
    "choice = np.random.choice(range(S.shape[0]), size=(int(0.6*S.shape[0]),), replace=False)    \n",
    "ind = np.zeros(S.shape[0], dtype=bool)\n",
    "ind[choice] = True\n",
    "rest = ~ind\n",
    "s_train = S[ind]\n",
    "s_test = S[rest]\n",
    "\n",
    "\n"
   ]
  },
  {
   "cell_type": "markdown",
   "metadata": {},
   "source": [
    "LSTM implementation in tensorflow. Inputs are padded sequences of word vectors, sentence lengths, and true labels (0 or 1). The model takes word vectors and passes them through the LSTM. Final state is used as an input of one fully connected layer with output dimension 1. We also get probability that the class is positive and argmax label. Network uses Adam optimizer."
   ]
  },
  {
   "cell_type": "code",
   "execution_count": 30,
   "metadata": {},
   "outputs": [],
   "source": [
    "class LSTM:\n",
    "    def __init__(self, cell_dim=64):\n",
    "        \"\"\"\n",
    "        Attributes\n",
    "        ----------\n",
    "        x: float\n",
    "            Input sentence of shape (BATCH SIZE, MAX SENTENCE LENGTH, EMBEDDING DIM)\n",
    "        y: float\n",
    "            Output label of shape (BATCH SIZE)\n",
    "        s: float\n",
    "            Length of sentences of shape (BATCH SIZE)\n",
    "        last_state: float\n",
    "            The last state of sequences with shape (BATCH SIZE, CELL DIM)\n",
    "        logits: float\n",
    "            The \n",
    "        prob: float\n",
    "            Probabilities after sigmoid\n",
    "        y_hat: int\n",
    "            Predicted class value (0 or 1)\n",
    "        loss: float\n",
    "            Cross entropy loss\n",
    "        optimize:\n",
    "            Operation that updates the weights based on the loss\n",
    "        accuracy: float\n",
    "            Accuracy of prediction y_hat given y\n",
    "        \"\"\"\n",
    "        \n",
    "        \n",
    "        \"\"\"\n",
    "        Define input placeholders x, y and s as class attributes\n",
    "        \"\"\"\n",
    "        ### YOUR CODE HERE ### \n",
    "        self.x = tf.placeholder(\"float\", [None, MAX_SENTENCE_LENGTH, EMBEDDING_DIM])\n",
    "\n",
    "        self.y = tf.placeholder(\"float\", [None])\n",
    "        self.s = tf.placeholder(\"float\", [None])\n",
    "\n",
    "\n",
    "        \"\"\" \n",
    "        Use dynamic_rnn to define an LSTM layer\n",
    "        Define last_state as class attribute to be the last output h of LSTM\n",
    "        (Note that we have zero padding)\n",
    "        \"\"\"\n",
    "        ### YOUR CODE HERE ### \n",
    "        ltsm_cell = tf.nn.rnn_cell.LSTMCell(cell_dim)\n",
    "        outputs, state = tf.nn.dynamic_rnn(ltsm_cell, self.x, dtype=tf.float32)\n",
    "        self.laststate = state.h\n",
    "        \n",
    "        \n",
    "        \n",
    "        \"\"\"\n",
    "        Define logits, prob and y_hat as class attributes. \n",
    "        We get logits by applying a single dense layer on the last state.\n",
    "        \"\"\"\n",
    "        ### YOUR CODE HERE ### \n",
    "        self.logits = tf.layers.dense(self.laststate, 1)\n",
    "        self.logits = self.logits[:,0]\n",
    "        self.prob = tf.nn.sigmoid(self.logits, name ='sigmoid')\n",
    "        self.y_hat = tf.round(self.prob)\n",
    "        correct_pred = tf.equal(self.y_hat, self.y)\n",
    "        self.accuracy = tf.reduce_mean(tf.cast(correct_pred, tf.float32))\n",
    "        \n",
    "\n",
    "        \n",
    "        self.loss = tf.reduce_mean(tf.nn.sigmoid_cross_entropy_with_logits(labels=self.y, logits=self.logits))\n",
    "        self.optimize = tf.train.AdamOptimizer().minimize(self.loss)"
   ]
  },
  {
   "cell_type": "markdown",
   "metadata": {},
   "source": [
    "In this part we finally train our RNN model and evaluate on the test set."
   ]
  },
  {
   "cell_type": "code",
   "execution_count": 31,
   "metadata": {},
   "outputs": [
    {
     "name": "stdout",
     "output_type": "stream",
     "text": [
      "WARNING:tensorflow:From <ipython-input-30-7766770394bd>:45: LSTMCell.__init__ (from tensorflow.python.ops.rnn_cell_impl) is deprecated and will be removed in a future version.\n",
      "Instructions for updating:\n",
      "This class is equivalent as tf.keras.layers.LSTMCell, and will be replaced by that in Tensorflow 2.0.\n",
      "WARNING:tensorflow:From <ipython-input-30-7766770394bd>:46: dynamic_rnn (from tensorflow.python.ops.rnn) is deprecated and will be removed in a future version.\n",
      "Instructions for updating:\n",
      "Please use `keras.layers.RNN(cell)`, which is equivalent to this API\n",
      "WARNING:tensorflow:From D:\\ProgramData\\Miniconda3\\envs\\Miniconda3\\lib\\site-packages\\tensorflow\\python\\ops\\tensor_array_ops.py:162: colocate_with (from tensorflow.python.framework.ops) is deprecated and will be removed in a future version.\n",
      "Instructions for updating:\n",
      "Colocations handled automatically by placer.\n",
      "WARNING:tensorflow:From <ipython-input-30-7766770394bd>:56: dense (from tensorflow.python.layers.core) is deprecated and will be removed in a future version.\n",
      "Instructions for updating:\n",
      "Use keras.layers.dense instead.\n",
      "Iter: 100 Train loss: 0.5515957 Train accuracy: 0.78125\n",
      "Iter: 200 Train loss: 0.5731795 Train accuracy: 0.703125\n",
      "Iter: 300 Train loss: 0.5273465 Train accuracy: 0.75\n",
      "Test loss: 0.6105759 Test accuracy: 0.7\n"
     ]
    }
   ],
   "source": [
    "tf.reset_default_graph()\n",
    "tf.set_random_seed(123)\n",
    "np.random.seed(123)\n",
    "\n",
    "model = LSTM()\n",
    "\n",
    "with tf.Session() as sess:\n",
    "    sess.run(tf.global_variables_initializer())\n",
    "\n",
    "    for iter in range(300):\n",
    "        i = np.random.randint(0, X_train.shape[0], 64)\n",
    "        feed = { model.x: X_train[i], model.y: y_train[i], model.s: s_train[i] }\n",
    "        _ = sess.run(model.optimize, feed)\n",
    "        \n",
    "        if (iter + 1) % 100 == 0:\n",
    "            train_loss, train_accuracy = sess.run([model.loss, model.accuracy], feed)\n",
    "            print('Iter:', iter + 1, 'Train loss:', train_loss, 'Train accuracy:', train_accuracy)\n",
    "\n",
    "    test_loss, test_pred = sess.run([model.loss, model.y_hat], { model.x: X_test, model.y: y_test, model.s: s_test })\n",
    "    print('Test loss:', test_loss, 'Test accuracy:', np.mean(test_pred == y_test))"
   ]
  },
  {
   "cell_type": "code",
   "execution_count": null,
   "metadata": {},
   "outputs": [],
   "source": []
  },
  {
   "cell_type": "code",
   "execution_count": null,
   "metadata": {},
   "outputs": [],
   "source": []
  }
 ],
 "metadata": {
  "kernelspec": {
   "display_name": "Python 3",
   "language": "python",
   "name": "python3"
  },
  "language_info": {
   "codemirror_mode": {
    "name": "ipython",
    "version": 3
   },
   "file_extension": ".py",
   "mimetype": "text/x-python",
   "name": "python",
   "nbconvert_exporter": "python",
   "pygments_lexer": "ipython3",
   "version": "3.6.7"
  }
 },
 "nbformat": 4,
 "nbformat_minor": 2
}
